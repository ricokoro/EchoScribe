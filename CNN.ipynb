{
 "cells": [
  {
   "cell_type": "code",
   "execution_count": 1,
   "outputs": [],
   "source": [
    "import os\n",
    "import numpy as np\n",
    "from sklearn.model_selection import train_test_split\n",
    "from tensorflow.keras.preprocessing.image import load_img, img_to_array"
   ],
   "metadata": {
    "collapsed": false,
    "ExecuteTime": {
     "end_time": "2023-11-15T02:16:01.108841Z",
     "start_time": "2023-11-15T02:15:57.125637500Z"
    }
   },
   "id": "ba6f0da1dc965775"
  },
  {
   "cell_type": "code",
   "execution_count": 2,
   "outputs": [],
   "source": [
    "BASE_PATH = 'EchoScribe ASL Dataset'"
   ],
   "metadata": {
    "collapsed": false,
    "ExecuteTime": {
     "end_time": "2023-11-15T02:16:01.111620800Z",
     "start_time": "2023-11-15T02:16:01.107843900Z"
    }
   },
   "id": "685933dc3c13d38d"
  },
  {
   "cell_type": "code",
   "execution_count": 3,
   "outputs": [],
   "source": [
    "labels = []\n",
    "data = []"
   ],
   "metadata": {
    "collapsed": false,
    "ExecuteTime": {
     "end_time": "2023-11-15T02:16:01.130334700Z",
     "start_time": "2023-11-15T02:16:01.115609700Z"
    }
   },
   "id": "1a483fe72d090fc5"
  },
  {
   "cell_type": "code",
   "execution_count": 4,
   "outputs": [
    {
     "name": "stdout",
     "output_type": "stream",
     "text": [
      "Currently processing folder: del\n",
      "Currently processing folder: E\n",
      "Currently processing folder: H\n",
      "Currently processing folder: L\n",
      "Currently processing folder: nothing\n",
      "Currently processing folder: O\n"
     ]
    }
   ],
   "source": [
    "for folder in os.listdir(BASE_PATH):\n",
    "    folder_path = os.path.join(BASE_PATH, folder)\n",
    "    if os.path.isdir(folder_path):\n",
    "        print(f\"Currently processing folder: {folder}\")\n",
    "        for file_name in os.listdir(folder_path):\n",
    "            if file_name.endswith('.jpg') or file_name.endswith('.jpeg'):\n",
    "                image_path = os.path.join(folder_path, file_name)\n",
    "                image = load_img(image_path, target_size=(128, 128))\n",
    "                image_arr = img_to_array(image) / 255.0\n",
    "                data.append(image_arr)\n",
    "                labels.append(folder)"
   ],
   "metadata": {
    "collapsed": false,
    "ExecuteTime": {
     "end_time": "2023-11-15T02:24:10.521541800Z",
     "start_time": "2023-11-15T02:16:01.122355700Z"
    }
   },
   "id": "69d67ed2266daf99"
  },
  {
   "cell_type": "code",
   "execution_count": 5,
   "outputs": [],
   "source": [
    "data = np.array(data)\n",
    "labels = np.array(labels)"
   ],
   "metadata": {
    "collapsed": false,
    "ExecuteTime": {
     "end_time": "2023-11-15T02:40:12.113388200Z",
     "start_time": "2023-11-15T02:24:11.036232500Z"
    }
   },
   "id": "28dc3cc14ff7764d"
  },
  {
   "cell_type": "code",
   "execution_count": 6,
   "outputs": [],
   "source": [
    "from sklearn.preprocessing import LabelEncoder\n",
    "le = LabelEncoder()\n",
    "labels = le.fit_transform(labels)"
   ],
   "metadata": {
    "collapsed": false,
    "ExecuteTime": {
     "end_time": "2023-11-15T02:40:19.858151Z",
     "start_time": "2023-11-15T02:40:12.621731Z"
    }
   },
   "id": "ba2bfb1978fb1a44"
  },
  {
   "cell_type": "code",
   "execution_count": 7,
   "outputs": [],
   "source": [
    "X_train, X_test, y_train, y_test = train_test_split(data, labels, test_size=0.2, random_state=42)"
   ],
   "metadata": {
    "collapsed": false,
    "ExecuteTime": {
     "end_time": "2023-11-15T02:50:50.399649400Z",
     "start_time": "2023-11-15T02:40:21.052193400Z"
    }
   },
   "id": "af1d8f24f9041225"
  },
  {
   "cell_type": "code",
   "execution_count": 8,
   "outputs": [],
   "source": [
    "from tensorflow.keras.models import Sequential\n",
    "from tensorflow.keras.layers import Conv2D, MaxPooling2D, Flatten, Dense"
   ],
   "metadata": {
    "collapsed": false,
    "ExecuteTime": {
     "end_time": "2023-11-15T02:51:00.899161800Z",
     "start_time": "2023-11-15T02:50:53.962229600Z"
    }
   },
   "id": "794f666eb90e224b"
  },
  {
   "cell_type": "code",
   "execution_count": 9,
   "outputs": [],
   "source": [
    "model = Sequential([\n",
    "    Conv2D(32, (3, 3), activation='relu', input_shape=(128, 128, 3)),\n",
    "    MaxPooling2D(2, 2),\n",
    "    Conv2D(64, (3, 3), activation='relu'),\n",
    "    MaxPooling2D(2, 2),\n",
    "    Conv2D(128, (3, 3), activation='relu'),\n",
    "    MaxPooling2D(2, 2),\n",
    "    Flatten(),\n",
    "    Dense(512, activation='relu'),\n",
    "    Dense(6, activation='softmax') \n",
    "])"
   ],
   "metadata": {
    "collapsed": false,
    "ExecuteTime": {
     "end_time": "2023-11-15T02:51:48.497409600Z",
     "start_time": "2023-11-15T02:51:01.796340500Z"
    }
   },
   "id": "6a03a50789e329fd"
  },
  {
   "cell_type": "code",
   "execution_count": 10,
   "outputs": [],
   "source": [
    "model.compile(optimizer='adam', loss='sparse_categorical_crossentropy', metrics=['accuracy'])"
   ],
   "metadata": {
    "collapsed": false,
    "ExecuteTime": {
     "end_time": "2023-11-15T02:51:50.275080900Z",
     "start_time": "2023-11-15T02:51:48.877248900Z"
    }
   },
   "id": "82b624e3c2b9634a"
  },
  {
   "cell_type": "code",
   "execution_count": 11,
   "outputs": [],
   "source": [
    "from tensorflow.keras.callbacks import EarlyStopping\n"
   ],
   "metadata": {
    "collapsed": false,
    "ExecuteTime": {
     "end_time": "2023-11-15T02:51:52.162470800Z",
     "start_time": "2023-11-15T02:51:50.857259600Z"
    }
   },
   "id": "1d3e000afa7bce69"
  },
  {
   "cell_type": "code",
   "execution_count": 12,
   "outputs": [],
   "source": [
    "# Early Stopping\n",
    "early_stopping = EarlyStopping(monitor='val_loss', patience=3, verbose=1)"
   ],
   "metadata": {
    "collapsed": false,
    "ExecuteTime": {
     "end_time": "2023-11-15T02:51:54.392152200Z",
     "start_time": "2023-11-15T02:51:54.248488700Z"
    }
   },
   "id": "a5500cc9856769e4"
  },
  {
   "cell_type": "code",
   "execution_count": 13,
   "outputs": [
    {
     "name": "stdout",
     "output_type": "stream",
     "text": [
      "Epoch 1/10\n",
      "1223/1223 [==============================] - 1151s 844ms/step - loss: 0.1582 - accuracy: 0.9444 - val_loss: 0.0134 - val_accuracy: 0.9957\n",
      "Epoch 2/10\n",
      "1223/1223 [==============================] - 591s 483ms/step - loss: 0.0158 - accuracy: 0.9948 - val_loss: 0.0075 - val_accuracy: 0.9979\n",
      "Epoch 3/10\n",
      "1223/1223 [==============================] - 445s 364ms/step - loss: 0.0116 - accuracy: 0.9968 - val_loss: 0.0211 - val_accuracy: 0.9956\n",
      "Epoch 4/10\n",
      "1223/1223 [==============================] - 447s 365ms/step - loss: 0.0087 - accuracy: 0.9979 - val_loss: 0.0083 - val_accuracy: 0.9977\n",
      "Epoch 5/10\n",
      "1223/1223 [==============================] - 451s 369ms/step - loss: 0.0057 - accuracy: 0.9983 - val_loss: 0.0058 - val_accuracy: 0.9990\n",
      "Epoch 6/10\n",
      "1223/1223 [==============================] - 448s 367ms/step - loss: 0.0071 - accuracy: 0.9981 - val_loss: 0.0098 - val_accuracy: 0.9988\n",
      "Epoch 7/10\n",
      "1223/1223 [==============================] - 453s 370ms/step - loss: 2.8427e-04 - accuracy: 0.9999 - val_loss: 0.0062 - val_accuracy: 0.9993\n",
      "Epoch 8/10\n",
      "1223/1223 [==============================] - 453s 371ms/step - loss: 5.2318e-06 - accuracy: 1.0000 - val_loss: 0.0062 - val_accuracy: 0.9993\n",
      "Epoch 8: early stopping\n"
     ]
    }
   ],
   "source": [
    "# Training the model with Early Stopping\n",
    "history = model.fit(X_train, y_train, epochs=10, batch_size=32, validation_data=(X_test, y_test), callbacks=[early_stopping])"
   ],
   "metadata": {
    "collapsed": false,
    "ExecuteTime": {
     "end_time": "2023-11-15T04:42:01.710644100Z",
     "start_time": "2023-11-15T02:51:54.814877Z"
    }
   },
   "id": "1dabb70c0d49bfb3"
  },
  {
   "cell_type": "code",
   "execution_count": 14,
   "outputs": [
    {
     "name": "stdout",
     "output_type": "stream",
     "text": [
      "306/306 [==============================] - 32s 94ms/step - loss: 0.0062 - accuracy: 0.9993\n",
      "Test Accuracy: 99.93%\n"
     ]
    }
   ],
   "source": [
    "# Evaluating the model\n",
    "test_loss, test_acc = model.evaluate(X_test, y_test)\n",
    "print(f\"Test Accuracy: {test_acc * 100:.2f}%\")"
   ],
   "metadata": {
    "collapsed": false,
    "ExecuteTime": {
     "end_time": "2023-11-15T04:54:51.654242500Z",
     "start_time": "2023-11-15T04:42:02.980545400Z"
    }
   },
   "id": "393c21692781caef"
  },
  {
   "cell_type": "code",
   "execution_count": 15,
   "outputs": [],
   "source": [
    "from sklearn.metrics import confusion_matrix\n",
    "import numpy as np\n",
    "import seaborn as sns\n",
    "import matplotlib.pyplot as plt"
   ],
   "metadata": {
    "collapsed": false,
    "ExecuteTime": {
     "end_time": "2023-11-15T04:55:11.989396500Z",
     "start_time": "2023-11-15T04:54:53.552539300Z"
    }
   },
   "id": "43605a3cafac4f13"
  },
  {
   "cell_type": "code",
   "execution_count": 16,
   "outputs": [
    {
     "name": "stdout",
     "output_type": "stream",
     "text": [
      "306/306 [==============================] - 88s 73ms/step\n"
     ]
    }
   ],
   "source": [
    "# Predictions and Confusion Matrix\n",
    "y_pred = model.predict(X_test)\n",
    "y_pred_classes = np.argmax(y_pred, axis=1)"
   ],
   "metadata": {
    "collapsed": false,
    "ExecuteTime": {
     "end_time": "2023-11-15T05:00:15.974149Z",
     "start_time": "2023-11-15T04:55:10.949236100Z"
    }
   },
   "id": "e721186855e67517"
  },
  {
   "cell_type": "code",
   "execution_count": 17,
   "outputs": [],
   "source": [
    "conf_matrix = confusion_matrix(y_test, y_pred_classes)"
   ],
   "metadata": {
    "collapsed": false,
    "ExecuteTime": {
     "end_time": "2023-11-15T05:00:20.828608600Z",
     "start_time": "2023-11-15T05:00:16.331296800Z"
    }
   },
   "id": "56a1c2aff0b74f3f"
  },
  {
   "cell_type": "code",
   "execution_count": 18,
   "outputs": [
    {
     "data": {
      "text/plain": "<Figure size 1000x800 with 2 Axes>",
      "image/png": "[encoded data removed]"
     },
     "metadata": {},
     "output_type": "display_data"
    }
   ],
   "source": [
    "# Plotting the Confusion Matrix\n",
    "plt.figure(figsize=(10, 8))\n",
    "sns.heatmap(conf_matrix, annot=True, fmt='d', cmap='Blues')\n",
    "plt.xlabel('Predicted Label')\n",
    "plt.ylabel('True Label')\n",
    "plt.show()"
   ],
   "metadata": {
    "collapsed": false,
    "ExecuteTime": {
     "end_time": "2023-11-15T05:00:59.721010100Z",
     "start_time": "2023-11-15T05:00:21.073836900Z"
    }
   },
   "id": "4db81ca5ed649545"
  },
  {
   "cell_type": "code",
   "execution_count": 19,
   "outputs": [],
   "source": [
    "import pickle"
   ],
   "metadata": {
    "collapsed": false,
    "ExecuteTime": {
     "end_time": "2023-11-15T05:00:59.781209300Z",
     "start_time": "2023-11-15T05:00:57.511275300Z"
    }
   },
   "id": "7eddd092a93957c2"
  },
  {
   "cell_type": "code",
   "execution_count": 20,
   "outputs": [],
   "source": [
    "model_pkl_file = \"model.pkl\"\n",
    "with open(model_pkl_file, 'wb') as file:\n",
    "    pickle.dump(model, file)"
   ],
   "metadata": {
    "collapsed": false,
    "ExecuteTime": {
     "end_time": "2023-11-15T05:02:04.309658300Z",
     "start_time": "2023-11-15T05:00:57.511275300Z"
    }
   },
   "id": "ef0467ce375e4ab3"
  },
  {
   "cell_type": "code",
   "execution_count": 20,
   "outputs": [],
   "source": [],
   "metadata": {
    "collapsed": false,
    "ExecuteTime": {
     "end_time": "2023-11-15T05:02:04.356107200Z",
     "start_time": "2023-11-15T05:01:01.680165700Z"
    }
   },
   "id": "50184e0df41e192e"
  }
 ],
 "metadata": {
  "kernelspec": {
   "display_name": "Python 3",
   "language": "python",
   "name": "python3"
  },
  "language_info": {
   "codemirror_mode": {
    "name": "ipython",
    "version": 2
   },
   "file_extension": ".py",
   "mimetype": "text/x-python",
   "name": "python",
   "nbconvert_exporter": "python",
   "pygments_lexer": "ipython2",
   "version": "2.7.6"
  }
 },
 "nbformat": 4,
 "nbformat_minor": 5
}
